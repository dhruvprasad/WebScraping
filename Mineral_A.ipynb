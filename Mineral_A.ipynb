{
 "cells": [
  {
   "cell_type": "code",
   "execution_count": 192,
   "metadata": {},
   "outputs": [],
   "source": [
    "import time"
   ]
  },
  {
   "cell_type": "code",
   "execution_count": 236,
   "metadata": {
    "scrolled": true
   },
   "outputs": [
    {
     "name": "stdout",
     "output_type": "stream",
     "text": [
      "Enter letter: \n",
      "G\n",
      "Mineral/galena.aspx\n",
      "Mineral/glauberite.aspx\n",
      "Mineral/gold.aspx\n",
      "Mineral/grossular.aspx\n",
      "Mineral/garnet.aspx\n",
      "Mineral/glaucophane.aspx\n",
      "Mineral/goosecreekite.aspx\n",
      "Mineral/gummite.aspx\n",
      "Mineral/gaspeite.aspx\n",
      "Mineral/gmelinite.aspx\n",
      "Mineral/graphite.aspx\n",
      "Mineral/gypsum.aspx\n",
      "Mineral/gibbsite.aspx\n",
      "Mineral/goethite.aspx\n",
      "Mineral/greenockite.aspx\n"
     ]
    }
   ],
   "source": [
    "import pandas as pd\n",
    "import requests as rq\n",
    "from bs4 import BeautifulSoup\n",
    "\n",
    "#main = rq.get(\"http://www.minerals.net/Minerals/A.aspx\")\n",
    "#first = rq.get(\"http://www.minerals.net/mineral/acanthite.aspx\")\n",
    "\n",
    "#soup = BeautifulSoup(main.text, 'lxml')\n",
    "#soup_first = BeautifulSoup(first.text, 'lxml')\n",
    "\n",
    "#data_table_first = soup_first.find('div', {\"id\": \"ctl00_ContentPlaceHolder1_one\"})\n",
    "#row_one_minerals = data_table_first.find_all('span', {'id' : lambda x: x and x.startswith('ctl00_ContentPlaceHolder1_lblComposition')} )\n",
    "#rows_first = data_table_first.find_all(\"tr\")[4]\n",
    "#chem_name = rows_first.find('span', {\"id\": \"ctl00_ContentPlaceHolder1_lblChemicalFormula\"}).text\n",
    "\n",
    "print(\"Enter letter: \")\n",
    "user_input = input()\n",
    "letter_choice = rq.get(\"http://www.minerals.net/Minerals/\" + user_input + \".aspx\")\n",
    "soup_choice = BeautifulSoup(letter_choice.text, \"html.parser\")\n",
    "\n",
    "\n",
    "all_minerals = [] \n",
    "minerals_a = []\n",
    "data_table = soup_choice.find('div', {\"id\": \"ctl00_ContentPlaceHolder1_one\"})\n",
    "# row_one_all = data_table.find_all(\"tr\")[0] #first row \n",
    "for row_one_all in data_table.find_all(\"tr\"):\n",
    "    row_one_minerals = row_one_all.find_all('div', {'id' : lambda x: x and x.endswith('_divMineral')} )\n",
    "    for each_mineral in row_one_minerals:\n",
    "        links = each_mineral.find('a')\n",
    "        title = links.get('href')\n",
    "        minerals_a.append(title)\n",
    "\n",
    "        \n",
    "def loop(key, value, dt_row, dicta):\n",
    "        chem_name = dt_row.find('span', {\"id\": value})\n",
    "        #print(\"[\" + key + \": \" + chem_name + \"]\")\n",
    "        #dicta[key] = chem_name\n",
    "        #return dicta\n",
    "    \n",
    "        if chem_name == None:\n",
    "            dicta[key] = \"N/A\"\n",
    "        else:\n",
    "            dicta[key] = chem_name.text\n",
    "        return dicta\n",
    "\n",
    "    \n",
    "    \n",
    "for mineral in minerals_a:\n",
    "    name = rq.get(\"http://www.minerals.net/\" + mineral)\n",
    "    time.sleep(1)\n",
    "    soup_name = BeautifulSoup(name.text, \"html.parser\")\n",
    "    dt = soup_name.find('div', {\"id\": \"ctl00_ContentPlaceHolder1_one\"}) \n",
    "    dt_row = dt.find_all(\"tr\")[4]\n",
    "    dicta = {}\n",
    "    \n",
    "    print(mineral)\n",
    "    loop(\"Chemical Formula\", \"ctl00_ContentPlaceHolder1_lblChemicalFormula\", dt_row, dicta)\n",
    "    loop(\"Composition\", \"ctl00_ContentPlaceHolder1_lblComposition\", dt_row, dicta)\n",
    "    loop(\"Color\", \"ctl00_ContentPlaceHolder1_lblColor\", dt_row, dicta)\n",
    "    loop(\"Streak\", \"ctl00_ContentPlaceHolder1_lblStreak\", dt_row, dicta)\n",
    "    loop(\"Hardness\", \"ctl00_ContentPlaceHolder1_lblHardness\", dt_row, dicta)\n",
    "    loop(\"Crystal System\", \"ctl00_ContentPlaceHolder1_lblCrystalSystem\", dt_row, dicta)\n",
    "    loop(\"Crystal Forms and Aggregates\", \"ctl00_ContentPlaceHolder1_lblCrystalFormsandAggregates\", dt_row, dicta)\n",
    "    loop(\"Transparency\", \"ctl00_ContentPlaceHolder1_lblTransparency\", dt_row, dicta)\n",
    "    loop(\"Luster\", \"ctl00_ContentPlaceHolder1_lblLuster\", dt_row, dicta)\n",
    "    loop(\"Cleavage\", \"ctl00_ContentPlaceHolder1_lblCleavage\", dt_row, dicta)\n",
    "    loop(\"Fracture\", \"ctl00_ContentPlaceHolder1_lblFracture\", dt_row, dicta)\n",
    "    loop(\"Tenacity\", \"ctl00_ContentPlaceHolder1_lblTenacity\", dt_row, dicta)\n",
    "    loop(\"In Group\", \"ctl00_ContentPlaceHolder1_lblInGroup\", dt_row, dicta)\n",
    "    loop(\"Striking Features\", \"ctl00_ContentPlaceHolder1_lblStrikingFeatures\", dt_row, dicta)\n",
    "    loop(\"Environment\", \"ctl00_ContentPlaceHolder1_lblEnvironment\", dt_row, dicta)\n",
    "    loop(\"Popularity\", \"ctl00_ContentPlaceHolder1_lblPopularity\", dt_row, dicta)\n",
    "    loop(\"Prevalence\", \"ctl00_ContentPlaceHolder1_lblPrevalence\", dt_row, dicta)\n",
    "    loop(\"Demand\", \"ctl00_ContentPlaceHolder1_lblDemand\", dt_row, dicta)\n",
    "    all_minerals.append(dicta)\n",
    "\n",
    "pd.DataFrame(all_minerals).to_csv(\"minerals.csv\", index=None)\n"
   ]
  },
  {
   "cell_type": "code",
   "execution_count": 212,
   "metadata": {},
   "outputs": [],
   "source": [
    "pd.DataFrame(all_minerals).to_csv(\"minerals.csv\", index=None)"
   ]
  },
  {
   "cell_type": "code",
   "execution_count": 240,
   "metadata": {},
   "outputs": [
    {
     "name": "stdout",
     "output_type": "stream",
     "text": [
      "Mineral/acanthite.aspx\n",
      "Mineral/almandine.aspx\n",
      "Mineral/anhydrite.aspx\n",
      "Mineral/aragonite.aspx\n",
      "Mineral/actinolite.aspx\n",
      "Mineral/amethyst.aspx\n",
      "Mineral/annabergite.aspx\n",
      "Mineral/arfvedsonite.aspx\n",
      "Mineral/adamite.aspx\n",
      "Mineral/analcime.aspx\n",
      "Mineral/anorthite.aspx\n",
      "Mineral/arsenic.aspx\n",
      "Mineral/aegirine.aspx\n",
      "Mineral/anatase.aspx\n",
      "Mineral/anorthoclase.aspx\n",
      "Mineral/arsenopyrite.aspx\n",
      "Mineral/afghanite.aspx\n",
      "Mineral/andalusite.aspx\n",
      "Mineral/antimony.aspx\n",
      "Mineral/augite.aspx\n",
      "Mineral/agate.aspx\n",
      "Mineral/andesine.aspx\n",
      "Mineral/apatite.aspx\n",
      "Mineral/aurichalcite.aspx\n",
      "Mineral/alabandite.aspx\n",
      "Mineral/andradite.aspx\n",
      "Mineral/apophyllite.aspx\n",
      "Mineral/axinite.aspx\n",
      "Mineral/albite.aspx\n",
      "Mineral/anglesite.aspx\n",
      "Mineral/aquamarine.aspx\n",
      "Mineral/azurite.aspx\n"
     ]
    }
   ],
   "source": [
    "data_table = soup.find('div', {\"id\": \"ctl00_ContentPlaceHolder1_one\"})\n",
    "# row_one_all = data_table.find_all(\"tr\")[0] #first row \n",
    "for row_one_all in data_table.find_all(\"tr\"):\n",
    "    row_one_minerals = row_one_all.find_all('div', {'id' : lambda x: x and x.endswith('_divMineral')} )\n",
    "    for each_mineral in row_one_minerals:\n",
    "        links = each_mineral.find('a')\n",
    "        title = links.get('href')\n",
    "        print(title)\n",
    "        #print('')"
   ]
  },
  {
   "cell_type": "code",
   "execution_count": null,
   "metadata": {},
   "outputs": [],
   "source": [
    "d = [ [1,2], [3,4]]\n",
    "dict(d)\n",
    "pd.DataFrame([ dict(d) ] )"
   ]
  },
  {
   "cell_type": "code",
   "execution_count": 200,
   "metadata": {},
   "outputs": [
    {
     "name": "stdout",
     "output_type": "stream",
     "text": [
      "0 10\n",
      "1 50\n",
      "2 60\n",
      "3 54\n"
     ]
    }
   ],
   "source": [
    "a = [10,50,60,54]\n",
    "for idx, val in enumerate(a):\n",
    "    print(idx, val)"
   ]
  },
  {
   "cell_type": "code",
   "execution_count": 230,
   "metadata": {},
   "outputs": [],
   "source": [
    "class DumbClass():\n",
    "    def __init__(self, num):\n",
    "        self.num = num\n"
   ]
  },
  {
   "cell_type": "code",
   "execution_count": 231,
   "metadata": {},
   "outputs": [],
   "source": [
    "b = DumbClass(5)"
   ]
  },
  {
   "cell_type": "code",
   "execution_count": 234,
   "metadata": {},
   "outputs": [],
   "source": [
    "b.num = 10"
   ]
  },
  {
   "cell_type": "code",
   "execution_count": 235,
   "metadata": {},
   "outputs": [
    {
     "data": {
      "text/plain": [
       "10"
      ]
     },
     "execution_count": 235,
     "metadata": {},
     "output_type": "execute_result"
    }
   ],
   "source": [
    "b.num"
   ]
  },
  {
   "cell_type": "code",
   "execution_count": null,
   "metadata": {},
   "outputs": [],
   "source": []
  }
 ],
 "metadata": {
  "kernelspec": {
   "display_name": "Python 3",
   "language": "python",
   "name": "python3"
  },
  "language_info": {
   "codemirror_mode": {
    "name": "ipython",
    "version": 3
   },
   "file_extension": ".py",
   "mimetype": "text/x-python",
   "name": "python",
   "nbconvert_exporter": "python",
   "pygments_lexer": "ipython3",
   "version": "3.6.4"
  }
 },
 "nbformat": 4,
 "nbformat_minor": 2
}
